{
 "cells": [
  {
   "cell_type": "code",
   "execution_count": 1,
   "metadata": {
    "id": "t2e8ZxUZ-gUp"
   },
   "outputs": [
    {
     "name": "stderr",
     "output_type": "stream",
     "text": [
      "d:\\Cours\\Master\\NLP in industry\\publication-date-extractor\\env\\lib\\site-packages\\tqdm\\auto.py:21: TqdmWarning: IProgress not found. Please update jupyter and ipywidgets. See https://ipywidgets.readthedocs.io/en/stable/user_install.html\n",
      "  from .autonotebook import tqdm as notebook_tqdm\n"
     ]
    }
   ],
   "source": [
    "from jinja2 import Template\n",
    "from transformers import AutoModelForCausalLM, AutoTokenizer\n",
    "import torch\n",
    "import pandas as pd\n",
    "import re"
   ]
  },
  {
   "cell_type": "code",
   "execution_count": 9,
   "metadata": {
    "colab": {
     "base_uri": "https://localhost:8080/"
    },
    "id": "QjSwT9TC-jGF",
    "outputId": "9be62134-4e74-4ee6-afb1-df1117bb86fa"
   },
   "outputs": [],
   "source": [
    "prompt_template = Template(\n",
    "    \"\"\"\n",
    "    You are an expert in structured data extraction.\n",
    "    The document is: \"{{ document }}\"\n",
    "\n",
    "    Extract and output only the **publication date** of the document in the format YYYY-MM-DD. \n",
    "    Do not include any additional text or context—just the date. The answer has to be 10 characters long.\n",
    "    Publication date:\n",
    "    \"\"\"\n",
    ")"
   ]
  },
  {
   "cell_type": "code",
   "execution_count": 3,
   "metadata": {
    "id": "1s__Ii6TpFsi"
   },
   "outputs": [],
   "source": [
    "unsloth_checkpoint = \"unsloth/Llama-3.2-1B-Instruct\"\n",
    "model = AutoModelForCausalLM.from_pretrained(unsloth_checkpoint,\n",
    "                                             torch_dtype=torch.bfloat16)\n",
    "\n",
    "tokenizer = AutoTokenizer.from_pretrained(unsloth_checkpoint)\n",
    "\n",
    "def llm_complete(prompt, max_tokens=2048, device = 'cuda', temperature=0.5):\n",
    "    # Fill it\n",
    "    model.to(device)\n",
    "    inputs = tokenizer(prompt, return_tensors=\"pt\")\n",
    "    inputs.to(device)\n",
    "    outputs = model.generate(**inputs, max_new_tokens=max_tokens, temperature = temperature, pad_token_id=tokenizer.eos_token_id)\n",
    "    outputs_ans_only = outputs[:,len(inputs['input_ids'][0]):]\n",
    "    answer_only = tokenizer.batch_decode(outputs_ans_only, skip_special_tokens=True)\n",
    "    return answer_only"
   ]
  },
  {
   "cell_type": "code",
   "execution_count": 4,
   "metadata": {
    "colab": {
     "base_uri": "https://localhost:8080/"
    },
    "id": "zcDZcVeApkBa",
    "outputId": "eaeb0d4c-fba7-4781-8114-a03d63f86651"
   },
   "outputs": [],
   "source": [
    "device = 'cuda' if torch.cuda.is_available() else 'cpu'\n",
    "#llm_complete(prompt, max_tokens = 30)"
   ]
  },
  {
   "cell_type": "markdown",
   "metadata": {
    "id": "nr2nVc2JxBkD"
   },
   "source": [
    "TODO:\n",
    "- use regex to generate text chunks, then join them into one long context\n"
   ]
  },
  {
   "cell_type": "code",
   "execution_count": 5,
   "metadata": {
    "id": "8VF9rX3eseHT"
   },
   "outputs": [
    {
     "data": {
      "text/html": [
       "<div>\n",
       "<style scoped>\n",
       "    .dataframe tbody tr th:only-of-type {\n",
       "        vertical-align: middle;\n",
       "    }\n",
       "\n",
       "    .dataframe tbody tr th {\n",
       "        vertical-align: top;\n",
       "    }\n",
       "\n",
       "    .dataframe thead th {\n",
       "        text-align: right;\n",
       "    }\n",
       "</style>\n",
       "<table border=\"1\" class=\"dataframe\">\n",
       "  <thead>\n",
       "    <tr style=\"text-align: right;\">\n",
       "      <th></th>\n",
       "      <th>doc_id</th>\n",
       "      <th>url</th>\n",
       "      <th>cache</th>\n",
       "      <th>text version</th>\n",
       "      <th>nature</th>\n",
       "      <th>published</th>\n",
       "      <th>entity</th>\n",
       "      <th>entity_type</th>\n",
       "      <th>Text</th>\n",
       "      <th>Gold published date</th>\n",
       "      <th>regex_chunks</th>\n",
       "      <th>regex_chunks_strict</th>\n",
       "    </tr>\n",
       "  </thead>\n",
       "  <tbody>\n",
       "    <tr>\n",
       "      <th>482</th>\n",
       "      <td>1482/bc2fa_Proc%C3%A8s%20verbal%20du%20CM%20du...</td>\n",
       "      <td>https://www.villederueil.fr/sites/default/file...</td>\n",
       "      <td>https://datapolitics-public.s3.gra.io.cloud.ov...</td>\n",
       "      <td>https://datapolitics-public.s3.gra.io.cloud.ov...</td>\n",
       "      <td>acte.delib</td>\n",
       "      <td>15/07/2020</td>\n",
       "      <td>Rueil-Malmaison</td>\n",
       "      <td>Commune</td>\n",
       "      <td>COMMUNE DE RUEIL-MALMAISON\\n(HAUTS-DE-SEINE)\\n...</td>\n",
       "      <td>15/07/2020</td>\n",
       "      <td></td>\n",
       "      <td></td>\n",
       "    </tr>\n",
       "    <tr>\n",
       "      <th>382</th>\n",
       "      <td>94/d32fa446d741892848b9c6cb24b689ede37b8413_re...</td>\n",
       "      <td>https://www.bouches-du-rhone.gouv.fr/contenu/t...</td>\n",
       "      <td>https://datapolitics-public.s3.gra.io.cloud.ov...</td>\n",
       "      <td>https://datapolitics-public.s3.gra.io.cloud.ov...</td>\n",
       "      <td>acte.arrete</td>\n",
       "      <td>04/09/2020</td>\n",
       "      <td>Bouches-du-Rhône</td>\n",
       "      <td>Conseil départemental</td>\n",
       "      <td>Centre de détention de Salon de Provence – BP ...</td>\n",
       "      <td>04/09/2020</td>\n",
       "      <td>[N°13-2020-219, PUBLIÉ LE 4 SEPTEMBRE 2020, 13...</td>\n",
       "      <td>[PUBLIÉ LE 4 SEPTEMBRE 2020, 13-2020-09-01-018...</td>\n",
       "    </tr>\n",
       "    <tr>\n",
       "      <th>184</th>\n",
       "      <td>2928/35ddb_cms_viewFile.php</td>\n",
       "      <td>https://www.valdedrome.com/cms_viewFile.php?id...</td>\n",
       "      <td>https://datapolitics-public.s3.gra.io.cloud.ov...</td>\n",
       "      <td>https://datapolitics-public.s3.gra.io.cloud.ov...</td>\n",
       "      <td>acte.delib</td>\n",
       "      <td>27/02/2020</td>\n",
       "      <td>CC du Val de Drôme en Biovallée</td>\n",
       "      <td>Intercommunalité</td>\n",
       "      <td>Visa de la Préfecture : 026-242600252-20200225...</td>\n",
       "      <td>27/02/2020</td>\n",
       "      <td>[Visa de la Préfecture : 026-242600252-2020022...</td>\n",
       "      <td>[Date de convocation : 11 février 2020, Vu la ...</td>\n",
       "    </tr>\n",
       "    <tr>\n",
       "      <th>153</th>\n",
       "      <td>1542/5587f_pv_cm_du_12-12-2022_signe.pdf</td>\n",
       "      <td>https://www.villedegarges.fr/sites/default/fil...</td>\n",
       "      <td>https://datapolitics-public.s3.gra.io.cloud.ov...</td>\n",
       "      <td>https://datapolitics-public.s3.gra.io.cloud.ov...</td>\n",
       "      <td>pv.cr</td>\n",
       "      <td>12/12/2022</td>\n",
       "      <td>Garges-lès-Gonesse</td>\n",
       "      <td>Commune</td>\n",
       "      <td>Acte affiché du 27/12/2022 au 28/02/2023 (not ...</td>\n",
       "      <td>27/12/2022</td>\n",
       "      <td>[DU 12 DÉCEMBRE, 2022, assembkâ à la Mairie, S...</td>\n",
       "      <td>[du 24 juin 2015,]</td>\n",
       "    </tr>\n",
       "    <tr>\n",
       "      <th>94</th>\n",
       "      <td>3245/f50038dafee07af671e46f8b6d58cc28cd0191a8_...</td>\n",
       "      <td>https://www.iledefrance.fr/actes/proces-verbau...</td>\n",
       "      <td>https://datapolitics-public.s3.gra.io.cloud.ov...</td>\n",
       "      <td>https://datapolitics-public.s3.gra.io.cloud.ov...</td>\n",
       "      <td>pv.cr</td>\n",
       "      <td>29/03/2023</td>\n",
       "      <td>Île-de-France</td>\n",
       "      <td>Conseil régional</td>\n",
       "      <td>None</td>\n",
       "      <td>29/03/2023</td>\n",
       "      <td>[Commission permanente du 29 mars 2023, 2 rue ...</td>\n",
       "      <td>[Commission permanente du 29 mars 2023, Approb...</td>\n",
       "    </tr>\n",
       "  </tbody>\n",
       "</table>\n",
       "</div>"
      ],
      "text/plain": [
       "                                                doc_id  \\\n",
       "482  1482/bc2fa_Proc%C3%A8s%20verbal%20du%20CM%20du...   \n",
       "382  94/d32fa446d741892848b9c6cb24b689ede37b8413_re...   \n",
       "184                        2928/35ddb_cms_viewFile.php   \n",
       "153           1542/5587f_pv_cm_du_12-12-2022_signe.pdf   \n",
       "94   3245/f50038dafee07af671e46f8b6d58cc28cd0191a8_...   \n",
       "\n",
       "                                                   url  \\\n",
       "482  https://www.villederueil.fr/sites/default/file...   \n",
       "382  https://www.bouches-du-rhone.gouv.fr/contenu/t...   \n",
       "184  https://www.valdedrome.com/cms_viewFile.php?id...   \n",
       "153  https://www.villedegarges.fr/sites/default/fil...   \n",
       "94   https://www.iledefrance.fr/actes/proces-verbau...   \n",
       "\n",
       "                                                 cache  \\\n",
       "482  https://datapolitics-public.s3.gra.io.cloud.ov...   \n",
       "382  https://datapolitics-public.s3.gra.io.cloud.ov...   \n",
       "184  https://datapolitics-public.s3.gra.io.cloud.ov...   \n",
       "153  https://datapolitics-public.s3.gra.io.cloud.ov...   \n",
       "94   https://datapolitics-public.s3.gra.io.cloud.ov...   \n",
       "\n",
       "                                          text version       nature  \\\n",
       "482  https://datapolitics-public.s3.gra.io.cloud.ov...   acte.delib   \n",
       "382  https://datapolitics-public.s3.gra.io.cloud.ov...  acte.arrete   \n",
       "184  https://datapolitics-public.s3.gra.io.cloud.ov...   acte.delib   \n",
       "153  https://datapolitics-public.s3.gra.io.cloud.ov...        pv.cr   \n",
       "94   https://datapolitics-public.s3.gra.io.cloud.ov...        pv.cr   \n",
       "\n",
       "      published                           entity            entity_type  \\\n",
       "482  15/07/2020                  Rueil-Malmaison                Commune   \n",
       "382  04/09/2020                 Bouches-du-Rhône  Conseil départemental   \n",
       "184  27/02/2020  CC du Val de Drôme en Biovallée       Intercommunalité   \n",
       "153  12/12/2022               Garges-lès-Gonesse                Commune   \n",
       "94   29/03/2023                    Île-de-France       Conseil régional   \n",
       "\n",
       "                                                  Text Gold published date  \\\n",
       "482  COMMUNE DE RUEIL-MALMAISON\\n(HAUTS-DE-SEINE)\\n...          15/07/2020   \n",
       "382  Centre de détention de Salon de Provence – BP ...          04/09/2020   \n",
       "184  Visa de la Préfecture : 026-242600252-20200225...          27/02/2020   \n",
       "153  Acte affiché du 27/12/2022 au 28/02/2023 (not ...          27/12/2022   \n",
       "94                                                None          29/03/2023   \n",
       "\n",
       "                                          regex_chunks  \\\n",
       "482                                                      \n",
       "382  [N°13-2020-219, PUBLIÉ LE 4 SEPTEMBRE 2020, 13...   \n",
       "184  [Visa de la Préfecture : 026-242600252-2020022...   \n",
       "153  [DU 12 DÉCEMBRE, 2022, assembkâ à la Mairie, S...   \n",
       "94   [Commission permanente du 29 mars 2023, 2 rue ...   \n",
       "\n",
       "                                   regex_chunks_strict  \n",
       "482                                                     \n",
       "382  [PUBLIÉ LE 4 SEPTEMBRE 2020, 13-2020-09-01-018...  \n",
       "184  [Date de convocation : 11 février 2020, Vu la ...  \n",
       "153                                 [du 24 juin 2015,]  \n",
       "94   [Commission permanente du 29 mars 2023, Approb...  "
      ]
     },
     "execution_count": 5,
     "metadata": {},
     "output_type": "execute_result"
    }
   ],
   "source": [
    "df = pd.read_pickle('df_with_regex_chunks.pkl')\n",
    "df.sample(5)"
   ]
  },
  {
   "cell_type": "code",
   "execution_count": 6,
   "metadata": {},
   "outputs": [],
   "source": [
    "def predict_date(document, temperature=0.5):\n",
    "    input = {'document': document}\n",
    "    prompt = prompt_template.render(**input)\n",
    "    output = llm_complete(prompt, max_tokens = 10, temperature=temperature)\n",
    "    date = re.findall(r\"\\d{4}-\\d{2}-\\d{2}\", str(output))\n",
    "    if date: return date[0]\n",
    "    else: return str(output)"
   ]
  },
  {
   "cell_type": "code",
   "execution_count": 10,
   "metadata": {},
   "outputs": [
    {
     "name": "stdout",
     "output_type": "stream",
     "text": [
      "100    30/03/2023\n",
      "253    09/03/2024\n",
      "450    14/12/2020\n",
      "106    01/02/2023\n",
      "47     13/03/2023\n",
      "81     31/03/2023\n",
      "290    16/03/2022\n",
      "174    09/12/2022\n",
      "72     27/03/2023\n",
      "351    01/01/2022\n",
      "Name: published, dtype: object\n",
      "100    2017-03-15\n",
      "253    2024-02-26\n",
      "450    2020-12-14\n",
      "106    2022-09-01\n",
      "47     2023-03-13\n",
      "81     2023-04-12\n",
      "290    2022-02-19\n",
      "174    2022-12-07\n",
      "72     2023-03-27\n",
      "351    2019-01-01\n",
      "Name: prediction, dtype: object\n"
     ]
    }
   ],
   "source": [
    "test = df.sample(10)\n",
    "print(test['published'])\n",
    "test['prediction'] = test.apply(lambda x: predict_date(x['regex_chunks']), axis=1)\n",
    "print(test['prediction'])"
   ]
  },
  {
   "cell_type": "code",
   "execution_count": 11,
   "metadata": {},
   "outputs": [],
   "source": [
    "df['prediction'] = df.apply(lambda x: predict_date(x['regex_chunks']), axis=1)"
   ]
  },
  {
   "cell_type": "code",
   "execution_count": 12,
   "metadata": {},
   "outputs": [
    {
     "data": {
      "text/html": [
       "<div>\n",
       "<style scoped>\n",
       "    .dataframe tbody tr th:only-of-type {\n",
       "        vertical-align: middle;\n",
       "    }\n",
       "\n",
       "    .dataframe tbody tr th {\n",
       "        vertical-align: top;\n",
       "    }\n",
       "\n",
       "    .dataframe thead th {\n",
       "        text-align: right;\n",
       "    }\n",
       "</style>\n",
       "<table border=\"1\" class=\"dataframe\">\n",
       "  <thead>\n",
       "    <tr style=\"text-align: right;\">\n",
       "      <th></th>\n",
       "      <th>published</th>\n",
       "      <th>prediction</th>\n",
       "    </tr>\n",
       "  </thead>\n",
       "  <tbody>\n",
       "    <tr>\n",
       "      <th>0</th>\n",
       "      <td>16/01/2023</td>\n",
       "      <td>2023-01-16</td>\n",
       "    </tr>\n",
       "    <tr>\n",
       "      <th>1</th>\n",
       "      <td>25/01/2023</td>\n",
       "      <td>2023-01-25</td>\n",
       "    </tr>\n",
       "    <tr>\n",
       "      <th>2</th>\n",
       "      <td>31/01/2023</td>\n",
       "      <td>2023-02-02</td>\n",
       "    </tr>\n",
       "    <tr>\n",
       "      <th>3</th>\n",
       "      <td>26/01/2023</td>\n",
       "      <td>2023-01-26</td>\n",
       "    </tr>\n",
       "    <tr>\n",
       "      <th>4</th>\n",
       "      <td>16/01/2023</td>\n",
       "      <td>2023-01-09</td>\n",
       "    </tr>\n",
       "    <tr>\n",
       "      <th>...</th>\n",
       "      <td>...</td>\n",
       "      <td>...</td>\n",
       "    </tr>\n",
       "    <tr>\n",
       "      <th>495</th>\n",
       "      <td>24/01/2024</td>\n",
       "      <td>2024-01-24</td>\n",
       "    </tr>\n",
       "    <tr>\n",
       "      <th>496</th>\n",
       "      <td>09/01/2024</td>\n",
       "      <td>2024-01-10</td>\n",
       "    </tr>\n",
       "    <tr>\n",
       "      <th>497</th>\n",
       "      <td>22/11/2022</td>\n",
       "      <td>2022-11-21</td>\n",
       "    </tr>\n",
       "    <tr>\n",
       "      <th>498</th>\n",
       "      <td>21/12/2023</td>\n",
       "      <td>2023-12-21</td>\n",
       "    </tr>\n",
       "    <tr>\n",
       "      <th>499</th>\n",
       "      <td>22/12/2023</td>\n",
       "      <td>2023-10-20</td>\n",
       "    </tr>\n",
       "  </tbody>\n",
       "</table>\n",
       "<p>500 rows × 2 columns</p>\n",
       "</div>"
      ],
      "text/plain": [
       "      published  prediction\n",
       "0    16/01/2023  2023-01-16\n",
       "1    25/01/2023  2023-01-25\n",
       "2    31/01/2023  2023-02-02\n",
       "3    26/01/2023  2023-01-26\n",
       "4    16/01/2023  2023-01-09\n",
       "..          ...         ...\n",
       "495  24/01/2024  2024-01-24\n",
       "496  09/01/2024  2024-01-10\n",
       "497  22/11/2022  2022-11-21\n",
       "498  21/12/2023  2023-12-21\n",
       "499  22/12/2023  2023-10-20\n",
       "\n",
       "[500 rows x 2 columns]"
      ]
     },
     "execution_count": 12,
     "metadata": {},
     "output_type": "execute_result"
    }
   ],
   "source": [
    "df[['published','prediction']]"
   ]
  },
  {
   "cell_type": "code",
   "execution_count": 13,
   "metadata": {},
   "outputs": [],
   "source": [
    "pattern = r\"^\\d{4}-\\d{2}-\\d{2}$\"\n",
    "test = df[df[\"prediction\"].str.match(pattern)]"
   ]
  },
  {
   "cell_type": "code",
   "execution_count": 14,
   "metadata": {},
   "outputs": [
    {
     "name": "stdout",
     "output_type": "stream",
     "text": [
      "46.50205761316872\n"
     ]
    }
   ],
   "source": [
    "from datetime import datetime\n",
    "\n",
    "accuracy = (pd.to_datetime(test[\"published\"], format=\"%d/%m/%Y\") == pd.to_datetime(test[\"prediction\"], format=\"%Y-%m-%d\")).mean() * 100\n",
    "print(accuracy)"
   ]
  },
  {
   "cell_type": "code",
   "execution_count": 15,
   "metadata": {},
   "outputs": [],
   "source": [
    "df.to_pickle('llamacpp.pkl')"
   ]
  }
 ],
 "metadata": {
  "accelerator": "GPU",
  "colab": {
   "gpuType": "T4",
   "provenance": []
  },
  "kernelspec": {
   "display_name": "env",
   "language": "python",
   "name": "python3"
  },
  "language_info": {
   "codemirror_mode": {
    "name": "ipython",
    "version": 3
   },
   "file_extension": ".py",
   "mimetype": "text/x-python",
   "name": "python",
   "nbconvert_exporter": "python",
   "pygments_lexer": "ipython3",
   "version": "3.10.11"
  }
 },
 "nbformat": 4,
 "nbformat_minor": 0
}
