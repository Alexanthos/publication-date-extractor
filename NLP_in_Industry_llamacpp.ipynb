{
 "cells": [
  {
   "cell_type": "code",
   "execution_count": null,
   "metadata": {
    "id": "t2e8ZxUZ-gUp"
   },
   "outputs": [],
   "source": [
    "from jinja2 import Template\n",
    "from transformers import AutoModelForCausalLM, AutoTokenizer\n",
    "import torch\n",
    "import pandas as pd\n",
    "import re"
   ]
  },
  {
   "cell_type": "code",
   "execution_count": 46,
   "metadata": {
    "colab": {
     "base_uri": "https://localhost:8080/"
    },
    "id": "QjSwT9TC-jGF",
    "outputId": "9be62134-4e74-4ee6-afb1-df1117bb86fa"
   },
   "outputs": [],
   "source": [
    "prompt_template = Template(\n",
    "    \"\"\"\n",
    "    <|begin_of_text|>\n",
    "\n",
    "    <|start_header_id|>user<|end_header_id|>\n",
    "\n",
    "    Document : {{document}}\n",
    "\n",
    "    You are an expert in structured data extraction. What is the publication date?\n",
    "    Output as a structured json with format YYYY-MM-DD.\n",
    "    The output should only be the date.\n",
    "    <|eot_id|>\n",
    "\n",
    "    {'publication_date':\n",
    "    \"\"\"\n",
    ")"
   ]
  },
  {
   "cell_type": "code",
   "execution_count": 31,
   "metadata": {
    "id": "1s__Ii6TpFsi"
   },
   "outputs": [],
   "source": [
    "unsloth_checkpoint = \"unsloth/Llama-3.2-1B-Instruct\"\n",
    "model = AutoModelForCausalLM.from_pretrained(unsloth_checkpoint,\n",
    "                                             torch_dtype=torch.bfloat16)\n",
    "\n",
    "tokenizer = AutoTokenizer.from_pretrained(unsloth_checkpoint)\n",
    "\n",
    "def llm_complete(prompt, max_tokens=2048, device = 'cuda', temperature=0.5):\n",
    "    # Fill it\n",
    "    model.to(device)\n",
    "    inputs = tokenizer(prompt, return_tensors=\"pt\")\n",
    "    inputs.to(device)\n",
    "    outputs = model.generate(**inputs, max_new_tokens=max_tokens, temperature = temperature, pad_token_id=tokenizer.eos_token_id)\n",
    "    outputs_ans_only = outputs[:,len(inputs['input_ids'][0]):]\n",
    "    answer_only = tokenizer.batch_decode(outputs_ans_only, skip_special_tokens=True)\n",
    "    return answer_only"
   ]
  },
  {
   "cell_type": "code",
   "execution_count": null,
   "metadata": {
    "colab": {
     "base_uri": "https://localhost:8080/"
    },
    "id": "zcDZcVeApkBa",
    "outputId": "eaeb0d4c-fba7-4781-8114-a03d63f86651"
   },
   "outputs": [
    {
     "name": "stderr",
     "output_type": "stream",
     "text": [
      "Setting `pad_token_id` to `eos_token_id`:None for open-end generation.\n"
     ]
    },
    {
     "data": {
      "text/plain": [
       "[\" '2023-02-09'}\\n    }\"]"
      ]
     },
     "execution_count": 13,
     "metadata": {},
     "output_type": "execute_result"
    }
   ],
   "source": [
    "device = 'cuda' if torch.cuda.is_available() else 'cpu'\n",
    "#llm_complete(prompt, max_tokens = 30)"
   ]
  },
  {
   "cell_type": "markdown",
   "metadata": {
    "id": "nr2nVc2JxBkD"
   },
   "source": [
    "TODO:\n",
    "- use regex to generate text chunks, then join them into one long context\n"
   ]
  },
  {
   "cell_type": "code",
   "execution_count": 6,
   "metadata": {
    "id": "8VF9rX3eseHT"
   },
   "outputs": [
    {
     "data": {
      "text/html": [
       "<div>\n",
       "<style scoped>\n",
       "    .dataframe tbody tr th:only-of-type {\n",
       "        vertical-align: middle;\n",
       "    }\n",
       "\n",
       "    .dataframe tbody tr th {\n",
       "        vertical-align: top;\n",
       "    }\n",
       "\n",
       "    .dataframe thead th {\n",
       "        text-align: right;\n",
       "    }\n",
       "</style>\n",
       "<table border=\"1\" class=\"dataframe\">\n",
       "  <thead>\n",
       "    <tr style=\"text-align: right;\">\n",
       "      <th></th>\n",
       "      <th>doc_id</th>\n",
       "      <th>url</th>\n",
       "      <th>cache</th>\n",
       "      <th>text version</th>\n",
       "      <th>nature</th>\n",
       "      <th>published</th>\n",
       "      <th>entity</th>\n",
       "      <th>entity_type</th>\n",
       "      <th>Text</th>\n",
       "      <th>Gold published date</th>\n",
       "      <th>regex_chunks</th>\n",
       "      <th>regex_chunks_strict</th>\n",
       "    </tr>\n",
       "  </thead>\n",
       "  <tbody>\n",
       "    <tr>\n",
       "      <th>387</th>\n",
       "      <td>1500/b87f792e0d954ca7a84491726071a720422eb354_...</td>\n",
       "      <td>https://www.chelles.fr/wp-content/uploads/2022...</td>\n",
       "      <td>https://datapolitics-public.s3.gra.io.cloud.ov...</td>\n",
       "      <td>https://datapolitics-public.s3.gra.io.cloud.ov...</td>\n",
       "      <td>pv.full</td>\n",
       "      <td>17/11/2020</td>\n",
       "      <td>Chelles</td>\n",
       "      <td>Commune</td>\n",
       "      <td>RÉPUBLIQUE FRANÇAISE\\nDépartement de SEINE-ET-...</td>\n",
       "      <td>17/11/2020</td>\n",
       "      <td>[SÉANCE DU 17 NOVEMBRE 2020, Le mardi 17 novem...</td>\n",
       "      <td>[SÉANCE DU 17 NOVEMBRE 2020, Le mardi 17 novem...</td>\n",
       "    </tr>\n",
       "    <tr>\n",
       "      <th>217</th>\n",
       "      <td>693/726fe_CM-2022-06-28_deliberations.pdf</td>\n",
       "      <td>https://www.bagneux92.fr/images/1-Decouvrir/ac...</td>\n",
       "      <td>https://datapolitics-public.s3.gra.io.cloud.ov...</td>\n",
       "      <td>https://datapolitics-public.s3.gra.io.cloud.ov...</td>\n",
       "      <td>acte.delib</td>\n",
       "      <td>28/06/2022</td>\n",
       "      <td>Bagneux</td>\n",
       "      <td>Commune</td>\n",
       "      <td>None</td>\n",
       "      <td>None</td>\n",
       "      <td>[Envoyé en préfecture le 06/07/2022, Reçu en p...</td>\n",
       "      <td>[légalement convoqué le 17 juin 2022, s'est as...</td>\n",
       "    </tr>\n",
       "    <tr>\n",
       "      <th>218</th>\n",
       "      <td>693/fb9de_CM-2022-06-28_liste-deliberations.pdf</td>\n",
       "      <td>https://www.bagneux92.fr/images/1-Decouvrir/ac...</td>\n",
       "      <td>https://datapolitics-public.s3.gra.io.cloud.ov...</td>\n",
       "      <td>https://datapolitics-public.s3.gra.io.cloud.ov...</td>\n",
       "      <td>pv.cr</td>\n",
       "      <td>28/06/2022</td>\n",
       "      <td>Bagneux</td>\n",
       "      <td>Commune</td>\n",
       "      <td>None</td>\n",
       "      <td>None</td>\n",
       "      <td>[mardi 28 juin 2022, en date du mardi 24 mai 2...</td>\n",
       "      <td>[mardi 28 juin 2022, en date du mardi 24 mai 2...</td>\n",
       "    </tr>\n",
       "    <tr>\n",
       "      <th>420</th>\n",
       "      <td>3897/0b973a568067af5b81599f352ab598002aa31397_...</td>\n",
       "      <td>https://www.gennesvaldeloire.fr/medias/2020/07...</td>\n",
       "      <td>https://datapolitics-public.s3.gra.io.cloud.ov...</td>\n",
       "      <td>https://datapolitics-public.s3.gra.io.cloud.ov...</td>\n",
       "      <td>pv.cr</td>\n",
       "      <td>06/07/2020</td>\n",
       "      <td>Gennes-Val-de-Loire</td>\n",
       "      <td>Commune</td>\n",
       "      <td>None</td>\n",
       "      <td>None</td>\n",
       "      <td>[Séance du 06 juillet 2020, 06 juillet, 20 heu...</td>\n",
       "      <td>[Séance du 06 juillet 2020, 30 juin 2020, 10 j...</td>\n",
       "    </tr>\n",
       "    <tr>\n",
       "      <th>17</th>\n",
       "      <td>669/9b3d1_7-Procs-verbal_20230220.pdf</td>\n",
       "      <td>https://www.puygouzon.fr/wp-content/uploads/20...</td>\n",
       "      <td>https://datapolitics-public.s3.gra.io.cloud.ov...</td>\n",
       "      <td>https://datapolitics-public.s3.gra.io.cloud.ov...</td>\n",
       "      <td>pv.cr</td>\n",
       "      <td>20/02/2023</td>\n",
       "      <td>Puygouzon</td>\n",
       "      <td>Commune</td>\n",
       "      <td>CONSEIL MUNICIPAL DU 20 FÉVRIER 2023.\\n\\nL'an ...</td>\n",
       "      <td>20/02/2023</td>\n",
       "      <td>[CONSEIL MUNICIPAL DU 20 FÉVRIER 2023,  Adopti...</td>\n",
       "      <td>[CONSEIL MUNICIPAL DU 20 FÉVRIER 2023,  Adopti...</td>\n",
       "    </tr>\n",
       "  </tbody>\n",
       "</table>\n",
       "</div>"
      ],
      "text/plain": [
       "                                                doc_id  \\\n",
       "387  1500/b87f792e0d954ca7a84491726071a720422eb354_...   \n",
       "217          693/726fe_CM-2022-06-28_deliberations.pdf   \n",
       "218    693/fb9de_CM-2022-06-28_liste-deliberations.pdf   \n",
       "420  3897/0b973a568067af5b81599f352ab598002aa31397_...   \n",
       "17               669/9b3d1_7-Procs-verbal_20230220.pdf   \n",
       "\n",
       "                                                   url  \\\n",
       "387  https://www.chelles.fr/wp-content/uploads/2022...   \n",
       "217  https://www.bagneux92.fr/images/1-Decouvrir/ac...   \n",
       "218  https://www.bagneux92.fr/images/1-Decouvrir/ac...   \n",
       "420  https://www.gennesvaldeloire.fr/medias/2020/07...   \n",
       "17   https://www.puygouzon.fr/wp-content/uploads/20...   \n",
       "\n",
       "                                                 cache  \\\n",
       "387  https://datapolitics-public.s3.gra.io.cloud.ov...   \n",
       "217  https://datapolitics-public.s3.gra.io.cloud.ov...   \n",
       "218  https://datapolitics-public.s3.gra.io.cloud.ov...   \n",
       "420  https://datapolitics-public.s3.gra.io.cloud.ov...   \n",
       "17   https://datapolitics-public.s3.gra.io.cloud.ov...   \n",
       "\n",
       "                                          text version      nature  \\\n",
       "387  https://datapolitics-public.s3.gra.io.cloud.ov...     pv.full   \n",
       "217  https://datapolitics-public.s3.gra.io.cloud.ov...  acte.delib   \n",
       "218  https://datapolitics-public.s3.gra.io.cloud.ov...       pv.cr   \n",
       "420  https://datapolitics-public.s3.gra.io.cloud.ov...       pv.cr   \n",
       "17   https://datapolitics-public.s3.gra.io.cloud.ov...       pv.cr   \n",
       "\n",
       "      published               entity entity_type  \\\n",
       "387  17/11/2020              Chelles     Commune   \n",
       "217  28/06/2022              Bagneux     Commune   \n",
       "218  28/06/2022              Bagneux     Commune   \n",
       "420  06/07/2020  Gennes-Val-de-Loire     Commune   \n",
       "17   20/02/2023            Puygouzon     Commune   \n",
       "\n",
       "                                                  Text Gold published date  \\\n",
       "387  RÉPUBLIQUE FRANÇAISE\\nDépartement de SEINE-ET-...          17/11/2020   \n",
       "217                                               None                None   \n",
       "218                                               None                None   \n",
       "420                                               None                None   \n",
       "17   CONSEIL MUNICIPAL DU 20 FÉVRIER 2023.\\n\\nL'an ...          20/02/2023   \n",
       "\n",
       "                                          regex_chunks  \\\n",
       "387  [SÉANCE DU 17 NOVEMBRE 2020, Le mardi 17 novem...   \n",
       "217  [Envoyé en préfecture le 06/07/2022, Reçu en p...   \n",
       "218  [mardi 28 juin 2022, en date du mardi 24 mai 2...   \n",
       "420  [Séance du 06 juillet 2020, 06 juillet, 20 heu...   \n",
       "17   [CONSEIL MUNICIPAL DU 20 FÉVRIER 2023,  Adopti...   \n",
       "\n",
       "                                   regex_chunks_strict  \n",
       "387  [SÉANCE DU 17 NOVEMBRE 2020, Le mardi 17 novem...  \n",
       "217  [légalement convoqué le 17 juin 2022, s'est as...  \n",
       "218  [mardi 28 juin 2022, en date du mardi 24 mai 2...  \n",
       "420  [Séance du 06 juillet 2020, 30 juin 2020, 10 j...  \n",
       "17   [CONSEIL MUNICIPAL DU 20 FÉVRIER 2023,  Adopti...  "
      ]
     },
     "execution_count": 6,
     "metadata": {},
     "output_type": "execute_result"
    }
   ],
   "source": [
    "df = pd.read_pickle('df_with_regex_chunks.pkl')\n",
    "df.sample(5)"
   ]
  },
  {
   "cell_type": "code",
   "execution_count": 56,
   "metadata": {},
   "outputs": [],
   "source": [
    "def predict_date(document, temperature=0.5):\n",
    "    input = {'document': document}\n",
    "    prompt = prompt_template.render(**input)\n",
    "    output = llm_complete(prompt, max_tokens = 10, temperature=temperature)\n",
    "    date = re.findall(r\"\\d{4}-\\d{2}-\\d{2}\", str(output))\n",
    "    if date: return date[0]\n",
    "    else: return str(output)"
   ]
  },
  {
   "cell_type": "code",
   "execution_count": 47,
   "metadata": {},
   "outputs": [
    {
     "name": "stdout",
     "output_type": "stream",
     "text": [
      "261    30/06/2022\n",
      "462    08/12/2020\n",
      "450    14/12/2020\n",
      "130    13/01/2023\n",
      "469    11/04/2024\n",
      "337    27/03/2022\n",
      "354    25/09/2020\n",
      "244    22/03/2023\n",
      "438    29/06/2023\n",
      "97     26/02/2024\n",
      "Name: published, dtype: object\n",
      "261    2022-06-30\n",
      "462    2018-02-14\n",
      "450    2020-12-14\n",
      "130    2023-01-13\n",
      "469    2022-07-25\n",
      "337    2022-02-14\n",
      "354    2020-09-25\n",
      "244    2023-03-22\n",
      "438    2023-06-29\n",
      "97     2024-02-20\n",
      "Name: prediction, dtype: object\n"
     ]
    }
   ],
   "source": [
    "test = df.sample(10)\n",
    "print(test['published'])\n",
    "test['prediction'] = test.apply(lambda x: predict_date(x['regex_chunks']), axis=1)\n",
    "print(test['prediction'])"
   ]
  },
  {
   "cell_type": "code",
   "execution_count": 64,
   "metadata": {},
   "outputs": [],
   "source": [
    "df['prediction'] = df.apply(lambda x: predict_date(x['regex_chunks']), axis=1)"
   ]
  },
  {
   "cell_type": "code",
   "execution_count": 65,
   "metadata": {},
   "outputs": [
    {
     "data": {
      "text/html": [
       "<div>\n",
       "<style scoped>\n",
       "    .dataframe tbody tr th:only-of-type {\n",
       "        vertical-align: middle;\n",
       "    }\n",
       "\n",
       "    .dataframe tbody tr th {\n",
       "        vertical-align: top;\n",
       "    }\n",
       "\n",
       "    .dataframe thead th {\n",
       "        text-align: right;\n",
       "    }\n",
       "</style>\n",
       "<table border=\"1\" class=\"dataframe\">\n",
       "  <thead>\n",
       "    <tr style=\"text-align: right;\">\n",
       "      <th></th>\n",
       "      <th>published</th>\n",
       "      <th>prediction</th>\n",
       "    </tr>\n",
       "  </thead>\n",
       "  <tbody>\n",
       "    <tr>\n",
       "      <th>0</th>\n",
       "      <td>16/01/2023</td>\n",
       "      <td>2023-01-16</td>\n",
       "    </tr>\n",
       "    <tr>\n",
       "      <th>1</th>\n",
       "      <td>25/01/2023</td>\n",
       "      <td>2023-01-18</td>\n",
       "    </tr>\n",
       "    <tr>\n",
       "      <th>2</th>\n",
       "      <td>31/01/2023</td>\n",
       "      <td>2023-01-26</td>\n",
       "    </tr>\n",
       "    <tr>\n",
       "      <th>3</th>\n",
       "      <td>26/01/2023</td>\n",
       "      <td>2023-01-26</td>\n",
       "    </tr>\n",
       "    <tr>\n",
       "      <th>4</th>\n",
       "      <td>16/01/2023</td>\n",
       "      <td>2023-01-09</td>\n",
       "    </tr>\n",
       "    <tr>\n",
       "      <th>...</th>\n",
       "      <td>...</td>\n",
       "      <td>...</td>\n",
       "    </tr>\n",
       "    <tr>\n",
       "      <th>495</th>\n",
       "      <td>24/01/2024</td>\n",
       "      <td>2024-01-09</td>\n",
       "    </tr>\n",
       "    <tr>\n",
       "      <th>496</th>\n",
       "      <td>09/01/2024</td>\n",
       "      <td>2024-01-10</td>\n",
       "    </tr>\n",
       "    <tr>\n",
       "      <th>497</th>\n",
       "      <td>22/11/2022</td>\n",
       "      <td>2022-11-22</td>\n",
       "    </tr>\n",
       "    <tr>\n",
       "      <th>498</th>\n",
       "      <td>21/12/2023</td>\n",
       "      <td>2023-12-21</td>\n",
       "    </tr>\n",
       "    <tr>\n",
       "      <th>499</th>\n",
       "      <td>22/12/2023</td>\n",
       "      <td>2023-10-20</td>\n",
       "    </tr>\n",
       "  </tbody>\n",
       "</table>\n",
       "<p>500 rows × 2 columns</p>\n",
       "</div>"
      ],
      "text/plain": [
       "      published  prediction\n",
       "0    16/01/2023  2023-01-16\n",
       "1    25/01/2023  2023-01-18\n",
       "2    31/01/2023  2023-01-26\n",
       "3    26/01/2023  2023-01-26\n",
       "4    16/01/2023  2023-01-09\n",
       "..          ...         ...\n",
       "495  24/01/2024  2024-01-09\n",
       "496  09/01/2024  2024-01-10\n",
       "497  22/11/2022  2022-11-22\n",
       "498  21/12/2023  2023-12-21\n",
       "499  22/12/2023  2023-10-20\n",
       "\n",
       "[500 rows x 2 columns]"
      ]
     },
     "execution_count": 65,
     "metadata": {},
     "output_type": "execute_result"
    }
   ],
   "source": [
    "df[['published','prediction']]"
   ]
  },
  {
   "cell_type": "code",
   "execution_count": 66,
   "metadata": {},
   "outputs": [],
   "source": [
    "pattern = r\"^\\d{4}-\\d{2}-\\d{2}$\"\n",
    "test = df[df[\"prediction\"].str.match(pattern)]"
   ]
  },
  {
   "cell_type": "code",
   "execution_count": 67,
   "metadata": {},
   "outputs": [
    {
     "name": "stdout",
     "output_type": "stream",
     "text": [
      "45.65217391304348\n"
     ]
    }
   ],
   "source": [
    "from datetime import datetime\n",
    "\n",
    "accuracy = (pd.to_datetime(test[\"published\"], format=\"%d/%m/%Y\") == pd.to_datetime(test[\"prediction\"], format=\"%Y-%m-%d\")).mean() * 100\n",
    "print(accuracy)"
   ]
  }
 ],
 "metadata": {
  "accelerator": "GPU",
  "colab": {
   "gpuType": "T4",
   "provenance": []
  },
  "kernelspec": {
   "display_name": "env",
   "language": "python",
   "name": "python3"
  },
  "language_info": {
   "codemirror_mode": {
    "name": "ipython",
    "version": 3
   },
   "file_extension": ".py",
   "mimetype": "text/x-python",
   "name": "python",
   "nbconvert_exporter": "python",
   "pygments_lexer": "ipython3",
   "version": "3.10.11"
  }
 },
 "nbformat": 4,
 "nbformat_minor": 0
}
