{
 "cells": [
  {
   "cell_type": "code",
   "execution_count": 3,
   "metadata": {},
   "outputs": [],
   "source": [
    "from transformers import AutoProcessor, AutoModelForVision2Seq\n",
    "import torch\n",
    "import pandas as pd\n",
    "from datasets import load_dataset\n",
    "import os\n",
    "from PIL import Image\n",
    "from transformers.image_utils import load_image"
   ]
  },
  {
   "cell_type": "code",
   "execution_count": 3,
   "metadata": {},
   "outputs": [],
   "source": [
    "DEVICE = \"cuda\" if torch.cuda.is_available() else \"cpu\""
   ]
  },
  {
   "cell_type": "code",
   "execution_count": 4,
   "metadata": {},
   "outputs": [
    {
     "data": {
      "application/vnd.jupyter.widget-view+json": {
       "model_id": "2ca5e65f2656488092d23b3c5443d1cd",
       "version_major": 2,
       "version_minor": 0
      },
      "text/plain": [
       "tokenizer_config.json:   0%|          | 0.00/4.48k [00:00<?, ?B/s]"
      ]
     },
     "metadata": {},
     "output_type": "display_data"
    },
    {
     "name": "stderr",
     "output_type": "stream",
     "text": [
      "Some kwargs in processor config are unused and will not have any effect: image_seq_len. \n"
     ]
    }
   ],
   "source": [
    "processor = AutoProcessor.from_pretrained(\"HuggingFaceTB/SmolVLM-Instruct\")\n",
    "model = AutoModelForVision2Seq.from_pretrained(\"HuggingFaceTB/SmolVLM-Instruct\",\n",
    "                                                # torch_dtype=torch.bfloat16,\n",
    "                                                _attn_implementation=\"flash_attention_2\" if DEVICE == \"cuda\" else \"eager\").to(DEVICE)\n"
   ]
  },
  {
   "cell_type": "code",
   "execution_count": 2,
   "metadata": {},
   "outputs": [
    {
     "data": {
      "text/html": [
       "<div>\n",
       "<style scoped>\n",
       "    .dataframe tbody tr th:only-of-type {\n",
       "        vertical-align: middle;\n",
       "    }\n",
       "\n",
       "    .dataframe tbody tr th {\n",
       "        vertical-align: top;\n",
       "    }\n",
       "\n",
       "    .dataframe thead th {\n",
       "        text-align: right;\n",
       "    }\n",
       "</style>\n",
       "<table border=\"1\" class=\"dataframe\">\n",
       "  <thead>\n",
       "    <tr style=\"text-align: right;\">\n",
       "      <th></th>\n",
       "      <th>Unnamed: 0</th>\n",
       "      <th>url</th>\n",
       "      <th>cache</th>\n",
       "      <th>path</th>\n",
       "    </tr>\n",
       "  </thead>\n",
       "  <tbody>\n",
       "    <tr>\n",
       "      <th>0</th>\n",
       "      <td>0</td>\n",
       "      <td>http://www.grandchambery.fr/fileadmin/mediathe...</td>\n",
       "      <td>https://datapolitics-public.s3.gra.io.cloud.ov...</td>\n",
       "      <td>extracted_images/0.png</td>\n",
       "    </tr>\n",
       "    <tr>\n",
       "      <th>1</th>\n",
       "      <td>1</td>\n",
       "      <td>http://www.ville-saint-ay.fr/userfile/fichier-...</td>\n",
       "      <td>https://datapolitics-public.s3.gra.io.cloud.ov...</td>\n",
       "      <td>extracted_images/1.png</td>\n",
       "    </tr>\n",
       "    <tr>\n",
       "      <th>2</th>\n",
       "      <td>2</td>\n",
       "      <td>https://www.gatine-racan.fr/wp-content/uploads...</td>\n",
       "      <td>https://datapolitics-public.s3.gra.io.cloud.ov...</td>\n",
       "      <td>extracted_images/2.png</td>\n",
       "    </tr>\n",
       "    <tr>\n",
       "      <th>3</th>\n",
       "      <td>3</td>\n",
       "      <td>https://www.ville-mazeres.fr/IMG/pdf/2023_1_1.pdf</td>\n",
       "      <td>https://datapolitics-public.s3.gra.io.cloud.ov...</td>\n",
       "      <td>extracted_images/3.png</td>\n",
       "    </tr>\n",
       "    <tr>\n",
       "      <th>4</th>\n",
       "      <td>4</td>\n",
       "      <td>https://www.fier-et-usses.com/cms_viewFile.php...</td>\n",
       "      <td>https://datapolitics-public.s3.gra.io.cloud.ov...</td>\n",
       "      <td>extracted_images/4.png</td>\n",
       "    </tr>\n",
       "    <tr>\n",
       "      <th>...</th>\n",
       "      <td>...</td>\n",
       "      <td>...</td>\n",
       "      <td>...</td>\n",
       "      <td>...</td>\n",
       "    </tr>\n",
       "    <tr>\n",
       "      <th>495</th>\n",
       "      <td>495</td>\n",
       "      <td>https://www.estuaire-sillon.fr/fileadmin/media...</td>\n",
       "      <td>https://datapolitics-public.s3.gra.io.cloud.ov...</td>\n",
       "      <td>extracted_images/495.png</td>\n",
       "    </tr>\n",
       "    <tr>\n",
       "      <th>496</th>\n",
       "      <td>496</td>\n",
       "      <td>https://plombieres-les-dijon.fr/wp-content/upl...</td>\n",
       "      <td>https://datapolitics-public.s3.gra.io.cloud.ov...</td>\n",
       "      <td>extracted_images/496.png</td>\n",
       "    </tr>\n",
       "    <tr>\n",
       "      <th>497</th>\n",
       "      <td>497</td>\n",
       "      <td>https://www.orne.gouv.fr/contenu/telechargemen...</td>\n",
       "      <td>https://datapolitics-public.s3.gra.io.cloud.ov...</td>\n",
       "      <td>extracted_images/497.png</td>\n",
       "    </tr>\n",
       "    <tr>\n",
       "      <th>498</th>\n",
       "      <td>498</td>\n",
       "      <td>https://www.vosges.gouv.fr/contenu/telechargem...</td>\n",
       "      <td>https://datapolitics-public.s3.gra.io.cloud.ov...</td>\n",
       "      <td>extracted_images/498.png</td>\n",
       "    </tr>\n",
       "    <tr>\n",
       "      <th>499</th>\n",
       "      <td>499</td>\n",
       "      <td>http://www.hauts-de-seine.fr/fileadmin/user_up...</td>\n",
       "      <td>https://datapolitics-public.s3.gra.io.cloud.ov...</td>\n",
       "      <td>extracted_images/499.png</td>\n",
       "    </tr>\n",
       "  </tbody>\n",
       "</table>\n",
       "<p>500 rows × 4 columns</p>\n",
       "</div>"
      ],
      "text/plain": [
       "     Unnamed: 0                                                url  \\\n",
       "0             0  http://www.grandchambery.fr/fileadmin/mediathe...   \n",
       "1             1  http://www.ville-saint-ay.fr/userfile/fichier-...   \n",
       "2             2  https://www.gatine-racan.fr/wp-content/uploads...   \n",
       "3             3  https://www.ville-mazeres.fr/IMG/pdf/2023_1_1.pdf   \n",
       "4             4  https://www.fier-et-usses.com/cms_viewFile.php...   \n",
       "..          ...                                                ...   \n",
       "495         495  https://www.estuaire-sillon.fr/fileadmin/media...   \n",
       "496         496  https://plombieres-les-dijon.fr/wp-content/upl...   \n",
       "497         497  https://www.orne.gouv.fr/contenu/telechargemen...   \n",
       "498         498  https://www.vosges.gouv.fr/contenu/telechargem...   \n",
       "499         499  http://www.hauts-de-seine.fr/fileadmin/user_up...   \n",
       "\n",
       "                                                 cache  \\\n",
       "0    https://datapolitics-public.s3.gra.io.cloud.ov...   \n",
       "1    https://datapolitics-public.s3.gra.io.cloud.ov...   \n",
       "2    https://datapolitics-public.s3.gra.io.cloud.ov...   \n",
       "3    https://datapolitics-public.s3.gra.io.cloud.ov...   \n",
       "4    https://datapolitics-public.s3.gra.io.cloud.ov...   \n",
       "..                                                 ...   \n",
       "495  https://datapolitics-public.s3.gra.io.cloud.ov...   \n",
       "496  https://datapolitics-public.s3.gra.io.cloud.ov...   \n",
       "497  https://datapolitics-public.s3.gra.io.cloud.ov...   \n",
       "498  https://datapolitics-public.s3.gra.io.cloud.ov...   \n",
       "499  https://datapolitics-public.s3.gra.io.cloud.ov...   \n",
       "\n",
       "                         path  \n",
       "0      extracted_images/0.png  \n",
       "1      extracted_images/1.png  \n",
       "2      extracted_images/2.png  \n",
       "3      extracted_images/3.png  \n",
       "4      extracted_images/4.png  \n",
       "..                        ...  \n",
       "495  extracted_images/495.png  \n",
       "496  extracted_images/496.png  \n",
       "497  extracted_images/497.png  \n",
       "498  extracted_images/498.png  \n",
       "499  extracted_images/499.png  \n",
       "\n",
       "[500 rows x 4 columns]"
      ]
     },
     "execution_count": 2,
     "metadata": {},
     "output_type": "execute_result"
    }
   ],
   "source": [
    "df = pd.read_csv('data_VLM.csv')\n",
    "df"
   ]
  },
  {
   "cell_type": "code",
   "execution_count": null,
   "metadata": {},
   "outputs": [],
   "source": [
    "def label_data(data, device = 'mps'):\n",
    "    \"\"\"\n",
    "    Input:\n",
    "        data : pd.DataFrame, a DataFrame object containing the column 'path' with paths to images\n",
    "    Output:\n",
    "        pd.DataFrame, a DataFrame object with a new added column 'predicted_date'\n",
    "    \"\"\"\n",
    "    hypothesis_dates = []\n",
    "    model.to(device)\n",
    "    for i, row in data.iterrows():\n",
    "        path = row['path']\n",
    "        if pd.isna(path): \n",
    "            hypothesis_dates.append(None)\n",
    "        else:\n",
    "            img = load_image(path)\n",
    "            messages = [\n",
    "                    {\n",
    "                        \"role\": \"user\",\n",
    "                        \"content\": [\n",
    "                            {\"type\": \"image\"},\n",
    "                            {\"type\": \"text\", \"text\": \"\"\"\n",
    "                                            What is the publication date of this document? Answer in a numerical date format YYYY-MM-DD. \"\"\"}\n",
    "                        ]\n",
    "                    },\n",
    "                ]\n",
    "            \n",
    "            prompt = processor.apply_chat_template(messages, add_generation_prompt=True)\n",
    "            inputs = processor(text=prompt, images=[img], return_tensors=\"pt\")\n",
    "            inputs.to(device)\n",
    "            generated_ids = model.generate(**inputs, max_new_tokens=50)\n",
    "            \n",
    "            generated_texts = processor.batch_decode(\n",
    "                generated_ids,\n",
    "                skip_special_tokens=True,\n",
    "            )\n",
    "            \n",
    "            hyp_text = generated_texts[0].split('Assistant:')[-1]\n",
    "            hypothesis_dates.append(hyp_text)\n",
    "            \n",
    "    data['predicted_date'] = hypothesis_dates\n",
    "    return data"
   ]
  },
  {
   "cell_type": "code",
   "execution_count": 24,
   "metadata": {},
   "outputs": [
    {
     "name": "stderr",
     "output_type": "stream",
     "text": [
      "/opt/homebrew/anaconda3/envs/projet-en-tal/lib/python3.11/site-packages/transformers/pytorch_utils.py:325: UserWarning: To copy construct from a tensor, it is recommended to use sourceTensor.clone().detach() or sourceTensor.clone().detach().requires_grad_(True), rather than torch.tensor(sourceTensor).\n",
      "  test_elements = torch.tensor(test_elements)\n"
     ]
    }
   ],
   "source": [
    "df_labelled = label_data(df)"
   ]
  },
  {
   "cell_type": "code",
   "execution_count": 20,
   "metadata": {},
   "outputs": [
    {
     "data": {
      "text/plain": [
       "True"
      ]
     },
     "execution_count": 20,
     "metadata": {},
     "output_type": "execute_result"
    }
   ],
   "source": [
    "pd.isna((df['path'][6]))"
   ]
  },
  {
   "cell_type": "code",
   "execution_count": 24,
   "metadata": {},
   "outputs": [],
   "source": [
    "df_labelled.to_csv('data_VLM_labeled.csv')"
   ]
  },
  {
   "cell_type": "code",
   "execution_count": 4,
   "metadata": {},
   "outputs": [],
   "source": [
    "df_labelled = pd.read_csv('data_VLM_labeled.csv')\n",
    "# df_labelled['predicted_date'] = df_labelled['df_labelled']"
   ]
  },
  {
   "cell_type": "code",
   "execution_count": 29,
   "metadata": {},
   "outputs": [],
   "source": [
    "import datetime\n",
    "from dateparser import parse"
   ]
  },
  {
   "cell_type": "code",
   "execution_count": 30,
   "metadata": {},
   "outputs": [],
   "source": [
    "def format_date(datestr):\n",
    "    if pd.isna(datestr) : return None\n",
    "    date_formatted = parse(datestr)\n",
    "    if date_formatted is not None: \n",
    "        date_formatted=date_formatted.strftime('%d/%m/%Y')\n",
    "    return date_formatted"
   ]
  },
  {
   "cell_type": "code",
   "execution_count": 31,
   "metadata": {},
   "outputs": [],
   "source": [
    "df_labelled['formatted_date'] = df_labelled['predicted_date'].apply(format_date)"
   ]
  },
  {
   "cell_type": "code",
   "execution_count": 25,
   "metadata": {},
   "outputs": [],
   "source": [
    "df_new_labels = pd.read_csv('dataset_text_url.csv')[['Gold published date', 'url']]\n",
    "df_labelled = df_labelled.merge(df_new_labels, on='url')"
   ]
  },
  {
   "cell_type": "code",
   "execution_count": 26,
   "metadata": {},
   "outputs": [],
   "source": [
    "df_labelled['is_correct'] = df_labelled['formatted_date'] == df_labelled['Gold published date']\n",
    "df_labelled['is_correct_month_year'] = df_labelled['formatted_date'].str[3:] == df_labelled['Gold published date'].str[3:]"
   ]
  },
  {
   "cell_type": "code",
   "execution_count": null,
   "metadata": {},
   "outputs": [
    {
     "data": {
      "text/html": [
       "<div>\n",
       "<style scoped>\n",
       "    .dataframe tbody tr th:only-of-type {\n",
       "        vertical-align: middle;\n",
       "    }\n",
       "\n",
       "    .dataframe tbody tr th {\n",
       "        vertical-align: top;\n",
       "    }\n",
       "\n",
       "    .dataframe thead th {\n",
       "        text-align: right;\n",
       "    }\n",
       "</style>\n",
       "<table border=\"1\" class=\"dataframe\">\n",
       "  <thead>\n",
       "    <tr style=\"text-align: right;\">\n",
       "      <th></th>\n",
       "      <th>url</th>\n",
       "      <th>Gold published date</th>\n",
       "    </tr>\n",
       "  </thead>\n",
       "  <tbody>\n",
       "    <tr>\n",
       "      <th>0</th>\n",
       "      <td>http://www.ville-saint-ay.fr/userfile/fichier-...</td>\n",
       "      <td>16/01/2023</td>\n",
       "    </tr>\n",
       "    <tr>\n",
       "      <th>1</th>\n",
       "      <td>https://www.gatine-racan.fr/wp-content/uploads...</td>\n",
       "      <td>25/01/2023</td>\n",
       "    </tr>\n",
       "    <tr>\n",
       "      <th>2</th>\n",
       "      <td>https://www.ville-mazeres.fr/IMG/pdf/2023_1_1.pdf</td>\n",
       "      <td>02/02/2023</td>\n",
       "    </tr>\n",
       "    <tr>\n",
       "      <th>3</th>\n",
       "      <td>https://www.fier-et-usses.com/cms_viewFile.php...</td>\n",
       "      <td>26/01/2023</td>\n",
       "    </tr>\n",
       "    <tr>\n",
       "      <th>4</th>\n",
       "      <td>https://www.grandbourg.fr/cms_viewFile.php?idt...</td>\n",
       "      <td>16/01/2023</td>\n",
       "    </tr>\n",
       "    <tr>\n",
       "      <th>...</th>\n",
       "      <td>...</td>\n",
       "      <td>...</td>\n",
       "    </tr>\n",
       "    <tr>\n",
       "      <th>495</th>\n",
       "      <td>https://plombieres-les-dijon.fr/wp-content/upl...</td>\n",
       "      <td>02/04/2024</td>\n",
       "    </tr>\n",
       "    <tr>\n",
       "      <th>496</th>\n",
       "      <td>https://www.orne.gouv.fr/contenu/telechargemen...</td>\n",
       "      <td>09/01/2024</td>\n",
       "    </tr>\n",
       "    <tr>\n",
       "      <th>497</th>\n",
       "      <td>https://www.vosges.gouv.fr/contenu/telechargem...</td>\n",
       "      <td>22/11/2022</td>\n",
       "    </tr>\n",
       "    <tr>\n",
       "      <th>498</th>\n",
       "      <td>http://www.grandchambery.fr/fileadmin/mediathe...</td>\n",
       "      <td>21/12/2023</td>\n",
       "    </tr>\n",
       "    <tr>\n",
       "      <th>499</th>\n",
       "      <td>http://www.hauts-de-seine.fr/fileadmin/user_up...</td>\n",
       "      <td>22/12/2023</td>\n",
       "    </tr>\n",
       "  </tbody>\n",
       "</table>\n",
       "<p>500 rows × 2 columns</p>\n",
       "</div>"
      ],
      "text/plain": [
       "                                                   url Gold published date\n",
       "0    http://www.ville-saint-ay.fr/userfile/fichier-...          16/01/2023\n",
       "1    https://www.gatine-racan.fr/wp-content/uploads...          25/01/2023\n",
       "2    https://www.ville-mazeres.fr/IMG/pdf/2023_1_1.pdf          02/02/2023\n",
       "3    https://www.fier-et-usses.com/cms_viewFile.php...          26/01/2023\n",
       "4    https://www.grandbourg.fr/cms_viewFile.php?idt...          16/01/2023\n",
       "..                                                 ...                 ...\n",
       "495  https://plombieres-les-dijon.fr/wp-content/upl...          02/04/2024\n",
       "496  https://www.orne.gouv.fr/contenu/telechargemen...          09/01/2024\n",
       "497  https://www.vosges.gouv.fr/contenu/telechargem...          22/11/2022\n",
       "498  http://www.grandchambery.fr/fileadmin/mediathe...          21/12/2023\n",
       "499  http://www.hauts-de-seine.fr/fileadmin/user_up...          22/12/2023\n",
       "\n",
       "[500 rows x 2 columns]"
      ]
     },
     "execution_count": 47,
     "metadata": {},
     "output_type": "execute_result"
    }
   ],
   "source": [
    "pd.read_csv('dataset_text_url.csv')[['url','Gold published date']]"
   ]
  },
  {
   "cell_type": "markdown",
   "metadata": {},
   "source": [
    "## Accuracy with rows where empty image paths are dropped"
   ]
  },
  {
   "cell_type": "code",
   "execution_count": 28,
   "metadata": {},
   "outputs": [
    {
     "data": {
      "text/plain": [
       "0.34826883910386963"
      ]
     },
     "execution_count": 28,
     "metadata": {},
     "output_type": "execute_result"
    }
   ],
   "source": [
    "df_labelled[['Gold published date', 'is_correct']].dropna()['is_correct'].mean()"
   ]
  },
  {
   "cell_type": "code",
   "execution_count": 29,
   "metadata": {},
   "outputs": [
    {
     "data": {
      "text/plain": [
       "0.5132382892057027"
      ]
     },
     "execution_count": 29,
     "metadata": {},
     "output_type": "execute_result"
    }
   ],
   "source": [
    "df_labelled[['Gold published date', 'is_correct_month_year']].dropna()['is_correct_month_year'].mean()"
   ]
  }
 ],
 "metadata": {
  "kernelspec": {
   "display_name": "Python 3",
   "language": "python",
   "name": "python3"
  },
  "language_info": {
   "codemirror_mode": {
    "name": "ipython",
    "version": 3
   },
   "file_extension": ".py",
   "mimetype": "text/x-python",
   "name": "python",
   "nbconvert_exporter": "python",
   "pygments_lexer": "ipython3",
   "version": "3.11.5"
  }
 },
 "nbformat": 4,
 "nbformat_minor": 2
}
